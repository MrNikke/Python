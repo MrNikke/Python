{
 "cells": [
  {
   "cell_type": "code",
   "execution_count": null,
   "id": "aa0c9558-eb17-4711-a911-1d409d2b98bf",
   "metadata": {},
   "outputs": [
    {
     "name": "stdout",
     "output_type": "stream",
     "text": [
      "**************************************************\n",
      "\n",
      " Welcome to Eliza's consultation \n",
      "\n",
      "**************************************************\n",
      "\n",
      "(You can exit at any time by saying \"goodbye\")\n",
      "\n",
      "Tell me about your problems...\n"
     ]
    },
    {
     "name": "stdin",
     "output_type": "stream",
     "text": [
      "\n",
      ">  My cat just pass away\n"
     ]
    },
    {
     "name": "stdout",
     "output_type": "stream",
     "text": [
      "your cat just pass away?\n"
     ]
    },
    {
     "name": "stdin",
     "output_type": "stream",
     "text": [
      "\n",
      ">  yeah\n"
     ]
    },
    {
     "name": "stdout",
     "output_type": "stream",
     "text": [
      "That’s right.\n"
     ]
    },
    {
     "name": "stdin",
     "output_type": "stream",
     "text": [
      "\n",
      ">  I dont have a cat\n"
     ]
    },
    {
     "name": "stdout",
     "output_type": "stream",
     "text": [
      "you dont have a cat?\n"
     ]
    }
   ],
   "source": [
    "import string            # Imports the string module\n",
    "import random            # Imports the random module\n",
    "import logging           # Imports the logging module\n",
    "\n",
    "def respond(text):\n",
    "    text = text.lower()\n",
    "    # Split the user's sentence into a list of words\n",
    "    original_words = str.split(text)\n",
    "    # Create a new list that contains the same words (a copy)\n",
    "    new_words = original_words[:]\n",
    "    # Go through all words, one at a time. If the word is in the first person, replace it with\n",
    "    # the corresponding word in the second person\n",
    "    for i in range(len(original_words)):\n",
    "        if original_words[i] == 'i':\n",
    "            new_words[i] = 'you'\n",
    "        elif original_words[i] == 'my':\n",
    "            new_words[i] = 'your'\n",
    "        elif original_words[i] == 'your':\n",
    "            new_words[i] = 'my'\n",
    "        elif original_words[i] == 'mine':\n",
    "            new_words[i] = 'yours'\n",
    "        elif original_words[i] == 'me':\n",
    "            new_words[i] = 'you'\n",
    "        elif original_words[i] == 'myself':\n",
    "            new_words[i] = 'yourself'\n",
    "\n",
    "    if \"no\" in original_words or 'never' in original_words or 'not' in original_words or 'none' in original_words or 'unfortunately' in original_words:\n",
    "        # Random negative responses\n",
    "        negative_responses = ['Not that?', 'Are you sure?', 'Is that true?', 'Why not?', 'Why are you in such a bad mood?', 'Why do you say that?']\n",
    "        response = random.choice(negative_responses)\n",
    "\n",
    "    elif \"mom\" in original_words or 'dad' in original_words or 'brother' in original_words or 'sister' in original_words or 'family' in original_words or 'relatives' in original_words:\n",
    "        # Family-related responses, randomly chosen\n",
    "        family_responses = ['Are your siblings the same?', 'Is your sister the same?', 'What does dad think about that?', 'What does mom say about that?', 'Is your brother the same?', 'Tell me more about your family.']\n",
    "        response = random.choice(family_responses)\n",
    "\n",
    "    elif new_words == original_words:\n",
    "        # Random positive expressions, respond \"smartly\" by randomly choosing an expression from the list\n",
    "        positive_responses = ['That sounds interesting.', 'Keep talking.', 'I understand what you mean.', 'That’s right.', 'Tell me more.']\n",
    "        response = random.choice(positive_responses)\n",
    "    else:\n",
    "        # Replace the last word in the response if it's followed by punctuation\n",
    "        last_word = new_words[-1]\n",
    "        if last_word[-1] in string.punctuation:  # string.punctuation contains all possible punctuation marks\n",
    "            last_word = last_word[:-1]\n",
    "        new_words[-1] = last_word + \"?\"\n",
    "        response = \" \".join(new_words)\n",
    "\n",
    "    print(response)\n",
    "    logging.info(response)  # Writes the response to a log file\n",
    "\n",
    "def main():\n",
    "    print(\"**************************************************\")\n",
    "    print()\n",
    "    print(\" Welcome to Eliza's consultation \")\n",
    "    print()\n",
    "    print(\"**************************************************\")\n",
    "    print()\n",
    "    print('(You can exit at any time by saying \"goodbye\")')\n",
    "    print()\n",
    "    print('Tell me about your problems...')\n",
    "\n",
    "    # Continue the conversation indefinitely\n",
    "    while True:\n",
    "        # Wait for the user to input something\n",
    "        text = input(\"\\n> \")\n",
    "        if text in [\"goodbye\", \"Stop!\", \"OK, that does it!\", \"Thanks and good night\"]:  # If the user types any of these options, the program exits\n",
    "            break\n",
    "\n",
    "        logging.info(text)  # Writes the user's input to the log file.\n",
    "        respond(text)\n",
    "\n",
    "    print('Thank you for your visit. Please transfer 150 EUR to my account.')  # Final message\n",
    "\n",
    "main()\n"
   ]
  },
  {
   "cell_type": "code",
   "execution_count": null,
   "id": "5fea858a-0198-46e6-a16b-5404ac8abfb9",
   "metadata": {},
   "outputs": [],
   "source": []
  }
 ],
 "metadata": {
  "kernelspec": {
   "display_name": "Python 3 (ipykernel)",
   "language": "python",
   "name": "python3"
  },
  "language_info": {
   "codemirror_mode": {
    "name": "ipython",
    "version": 3
   },
   "file_extension": ".py",
   "mimetype": "text/x-python",
   "name": "python",
   "nbconvert_exporter": "python",
   "pygments_lexer": "ipython3",
   "version": "3.12.7"
  }
 },
 "nbformat": 4,
 "nbformat_minor": 5
}
